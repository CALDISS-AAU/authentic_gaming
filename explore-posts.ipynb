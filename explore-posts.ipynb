{
 "cells": [
  {
   "cell_type": "code",
   "execution_count": 1,
   "metadata": {},
   "outputs": [],
   "source": [
    "import pandas as pd\n",
    "import json\n",
    "import os\n",
    "from os import listdir\n",
    "from os.path import isfile, join\n",
    "import ast\n",
    "import numpy as np\n",
    "import stanza\n",
    "import re\n",
    "from fuzzywuzzy import fuzz\n",
    "from fuzzywuzzy import process\n",
    "import nltk\n",
    "from nltk.corpus import stopwords\n",
    "\n",
    "import matplotlib.pyplot as plt\n",
    "import seaborn as sns\n",
    "\n",
    "%matplotlib inline\n",
    "sns.set(rc={'figure.figsize':(20,12)})\n",
    "\n",
    "#stanza.download('da')\n",
    "#nltk.download('stopwords')"
   ]
  },
  {
   "cell_type": "code",
   "execution_count": 2,
   "metadata": {},
   "outputs": [],
   "source": [
    "data_path = os.path.join('C:/', 'data', 'wow')\n",
    "df = pd.read_csv(os.path.join(data_path, 'old_blizzard.csv'))"
   ]
  },
  {
   "cell_type": "code",
   "execution_count": 6,
   "metadata": {},
   "outputs": [
    {
     "data": {
      "text/plain": [
       "\"I played WoW from patch 1.4 until Sunwell. And I'm not convinced on Classic. 1. I understand nostalgia for the gameplay, and it was a great game, by I don't get why people would want the old graphics when it looked outdated back then. Someone will level a warrior or rogue at snail pace and those 2004 boring graphics will reinforce his perception that the game is bad because it looks bad. 2. The lack of a second talent tree. This was the most demanded feature and I don't see people sticking with the game without it. 3. This has always been in the game, but weekly resets, I never got it, let people able to reset raids. Maybe have a 2 hours cooldown, but if a guild wants to farm a raid every night, or twice on a sunday, or farm the first 3 bosses of MC, let them. Gearing 40-60 people with weekly resets, in this day and age, good luck. 4. Dungeon finder, not sure people will like that, again bad decision. 5. The graphics, no seriously, this is bad on every level of game design, it just make the game look worse, a straight negative with no benefit.\""
      ]
     },
     "execution_count": 6,
     "metadata": {},
     "output_type": "execute_result"
    }
   ],
   "source": [
    "df.loc[98, 'answer']"
   ]
  },
  {
   "cell_type": "markdown",
   "metadata": {},
   "source": [
    "^ Example. He is claiming authenticity event though he was not there from the start (started at 1.4) - identity claim.\n",
    "\n",
    "Lists positive and negative (which people will respond to)."
   ]
  },
  {
   "cell_type": "code",
   "execution_count": 7,
   "metadata": {},
   "outputs": [
    {
     "data": {
      "text/plain": [
       "\"sounds like you dislike everything about classic. find a different game if you don't like it.\""
      ]
     },
     "execution_count": 7,
     "metadata": {},
     "output_type": "execute_result"
    }
   ],
   "source": [
    "df.loc[99, 'answer']"
   ]
  },
  {
   "cell_type": "markdown",
   "metadata": {},
   "source": [
    "^ Answer. Dismissal"
   ]
  },
  {
   "cell_type": "code",
   "execution_count": 8,
   "metadata": {},
   "outputs": [
    {
     "data": {
      "text/plain": [
       "'1.) Nope. 2.) Nope. 3.) Nope. 4.) Nope. 5.) Nope. -Demo player'"
      ]
     },
     "execution_count": 8,
     "metadata": {},
     "output_type": "execute_result"
    }
   ],
   "source": [
    "df.loc[100, 'answer']"
   ]
  },
  {
   "cell_type": "markdown",
   "metadata": {},
   "source": [
    "^ Further dismissal "
   ]
  },
  {
   "cell_type": "code",
   "execution_count": 9,
   "metadata": {},
   "outputs": [
    {
     "data": {
      "text/plain": [
       "\"Unlike the purist, I don't see Classic as exact 1 to 1 copy of what was. What I see is mechanics and cosmetics. Mechanics are important, for they are the gameplay. Cosmetics are not - they are personal art tastes. So Dungeon-finder is BAD, as it kills travel and forging of in game friendship. New graphics for models - are fine, it doesn't affect anything for gameplay. Raid reset times are tricky. While I agree that 15 years ago player crowd were more tuned to the idea that raid needed 40+ people kill a boss (I am coming from EverQuest where 70+ man raids were mandatory). As WoW got more casual over the years, very few would actually play that. On other hand, more raids per week - mean more loot coming in they not suppose to have.\""
      ]
     },
     "execution_count": 9,
     "metadata": {},
     "output_type": "execute_result"
    }
   ],
   "source": [
    "df.loc[107, 'answer']"
   ]
  },
  {
   "cell_type": "code",
   "execution_count": 10,
   "metadata": {},
   "outputs": [
    {
     "data": {
      "text/plain": [
       "'*Yawning* Cool'"
      ]
     },
     "execution_count": 10,
     "metadata": {},
     "output_type": "execute_result"
    }
   ],
   "source": [
    "df.loc[109, 'answer']"
   ]
  },
  {
   "cell_type": "code",
   "execution_count": 11,
   "metadata": {},
   "outputs": [
    {
     "data": {
      "text/plain": [
       "\"So simple fun thread to see how you all think and feel. Name 1 thing you are definitely looking forward to, preferably not the obvious stuff but whatever go wild! I'll start with one. Professions aiding in immersion. Not sure if many noticed this but something I am excited about playing a hunter is the professions and how they aid in immersion for the hunter class so freaking well. All of the secondary profs help hunter immersion. Cooking, Fishing and First Aid all actually fueled the hunter lifestyle. Add in Skinning and Leather Working and it's straight up Hunter RPG.\""
      ]
     },
     "execution_count": 11,
     "metadata": {},
     "output_type": "execute_result"
    }
   ],
   "source": [
    "df.loc[138, 'answer']"
   ]
  },
  {
   "cell_type": "code",
   "execution_count": null,
   "metadata": {},
   "outputs": [],
   "source": []
  }
 ],
 "metadata": {
  "kernelspec": {
   "display_name": "Python 3",
   "language": "python",
   "name": "python3"
  },
  "language_info": {
   "codemirror_mode": {
    "name": "ipython",
    "version": 3
   },
   "file_extension": ".py",
   "mimetype": "text/x-python",
   "name": "python",
   "nbconvert_exporter": "python",
   "pygments_lexer": "ipython3",
   "version": "3.7.9"
  }
 },
 "nbformat": 4,
 "nbformat_minor": 4
}
